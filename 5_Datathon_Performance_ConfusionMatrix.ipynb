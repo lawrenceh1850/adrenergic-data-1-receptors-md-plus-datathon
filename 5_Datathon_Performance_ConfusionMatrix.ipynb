{
 "cells": [
  {
   "cell_type": "markdown",
   "metadata": {},
   "source": [
    "# Model Testset Performance Comparison\n",
    "## Lawrence He and Felipe Giuste (2022-09-08)"
   ]
  },
  {
   "cell_type": "code",
   "execution_count": 6,
   "metadata": {},
   "outputs": [],
   "source": [
    "import sys, os\n",
    "import numpy as np\n",
    "import pandas as pd\n",
    "import pickle\n",
    "import matplotlib.pyplot as plt\n",
    "import seaborn as sns\n",
    "\n",
    "## Metrics ##\n",
    "from sklearn.metrics import confusion_matrix, matthews_corrcoef, f1_score, accuracy_score, classification_report\n",
    "\n",
    "### Seed ###\n",
    "random_state = 1234\n",
    "np.random.seed(random_state)"
   ]
  },
  {
   "cell_type": "markdown",
   "metadata": {},
   "source": [
    "## User Variables"
   ]
  },
  {
   "cell_type": "code",
   "execution_count": 7,
   "metadata": {},
   "outputs": [],
   "source": [
    "## Folder paths ##\n",
    "data_folder = '../Data/'\n",
    "results_folder='../Results/'\n",
    "models_folder='../Models/'\n",
    "figures_folder ='../Figures/Performance/'\n",
    "\n",
    "## Outcome variable ##\n",
    "outcome_column='ckd_status'"
   ]
  },
  {
   "cell_type": "markdown",
   "metadata": {},
   "source": [
    "## Load Performance Dictionary"
   ]
  },
  {
   "cell_type": "code",
   "execution_count": 8,
   "metadata": {},
   "outputs": [],
   "source": [
    "## Load ##\n",
    "with open( f'{models_folder}/Test_Performance.pkl', 'rb' ) as fh:\n",
    "    performance_dict = pickle.load( file=fh )"
   ]
  },
  {
   "cell_type": "markdown",
   "metadata": {},
   "source": [
    "## Load Data"
   ]
  },
  {
   "cell_type": "code",
   "execution_count": 9,
   "metadata": {},
   "outputs": [
    {
     "name": "stderr",
     "output_type": "stream",
     "text": [
      "/var/folders/65/qxp2fcwj00bff0rdg3hmhyx80000gn/T/ipykernel_66535/2323148330.py:2: DtypeWarning: Columns (30,41,42,66,67,68,69,83,87,103,104,105,121,122,123) have mixed types. Specify dtype option on import or set low_memory=False.\n",
      "  test_data = pd.read_csv(data_folder+'test_data.csv')\n"
     ]
    }
   ],
   "source": [
    "### Load ###\n",
    "test_data = pd.read_csv(data_folder+'test_data.csv')\n",
    "\n",
    "### Feature list ###\n",
    "feature_list = list()\n",
    "for i in test_data.columns:\n",
    "    if i[:2] == 'F_':\n",
    "        feature_list.append(i)\n",
    "        \n",
    "### Setup Datasets ###\n",
    "y_test = test_data[outcome_column]"
   ]
  },
  {
   "cell_type": "markdown",
   "metadata": {},
   "source": [
    "# Confusion Matrix"
   ]
  },
  {
   "cell_type": "code",
   "execution_count": null,
   "metadata": {},
   "outputs": [],
   "source": []
  },
  {
   "cell_type": "code",
   "execution_count": 10,
   "metadata": {},
   "outputs": [
    {
     "ename": "NameError",
     "evalue": "name 'performance_dict' is not defined",
     "output_type": "error",
     "traceback": [
      "\u001b[0;31m---------------------------------------------------------------------------\u001b[0m",
      "\u001b[0;31mNameError\u001b[0m                                 Traceback (most recent call last)",
      "Cell \u001b[0;32mIn[10], line 8\u001b[0m\n\u001b[1;32m      6\u001b[0m \u001b[39m### XGBoost: All Features ###\u001b[39;00m\n\u001b[1;32m      7\u001b[0m title\u001b[39m=\u001b[39m\u001b[39m'\u001b[39m\u001b[39mXGBoost: All Features\u001b[39m\u001b[39m'\u001b[39m\n\u001b[0;32m----> 8\u001b[0m threshold \u001b[39m=\u001b[39m performance_dict[\u001b[39m'\u001b[39m\u001b[39mXGBoostClassifier\u001b[39m\u001b[39m'\u001b[39m][\u001b[39m'\u001b[39m\u001b[39mAll Features\u001b[39m\u001b[39m'\u001b[39m][\u001b[39m'\u001b[39m\u001b[39mthreshold\u001b[39m\u001b[39m'\u001b[39m]\n\u001b[1;32m      9\u001b[0m predictions \u001b[39m=\u001b[39m performance_dict[\u001b[39m'\u001b[39m\u001b[39mXGBoostClassifier\u001b[39m\u001b[39m'\u001b[39m][\u001b[39m'\u001b[39m\u001b[39mAll Features\u001b[39m\u001b[39m'\u001b[39m][\u001b[39m'\u001b[39m\u001b[39my_pred\u001b[39m\u001b[39m'\u001b[39m] \u001b[39m>\u001b[39m threshold\n\u001b[1;32m     10\u001b[0m ax_current\u001b[39m=\u001b[39max[\u001b[39m0\u001b[39m,\u001b[39m0\u001b[39m]\n",
      "\u001b[0;31mNameError\u001b[0m: name 'performance_dict' is not defined"
     ]
    },
    {
     "data": {
      "image/png": "[encoded data removed]",
      "text/plain": [
       "<Figure size 1400x1400 with 4 Axes>"
      ]
     },
     "metadata": {},
     "output_type": "display_data"
    }
   ],
   "source": [
    "## Plot ##\n",
    "fig, ax = plt.subplots(2, 2, figsize=(14, 14))\n",
    "## Prediction Binarization thresholds to test ##\n",
    "thresholds = np.arange(0,1,1E-3)\n",
    "\n",
    "### XGBoost: All Features ###\n",
    "title='XGBoost: All Features'\n",
    "threshold = performance_dict['XGBoostClassifier']['All Features']['threshold']\n",
    "predictions = performance_dict['XGBoostClassifier']['All Features']['y_pred'] > threshold\n",
    "ax_current=ax[0,0]\n",
    "\n",
    "confusion_matrix_data = confusion_matrix( y_true=y_test, y_pred=predictions, normalize='true' )\n",
    "## heatmap ##\n",
    "hmap = sns.heatmap(confusion_matrix_data, annot=True, square=True,\n",
    "            xticklabels= ['Pred: 0', 'Pred: 1'],\n",
    "            yticklabels= ['True: 0', 'True: 1'],\n",
    "            robust=True,\n",
    "            annot_kws={'fontsize':20},\n",
    "            cbar_kws={'pad':0, 'shrink': 0.82},\n",
    "                   ax=ax_current\n",
    "           )\n",
    "## Axis label size ##\n",
    "hmap.set_xticklabels(hmap.get_xmajorticklabels(), fontsize = 18)\n",
    "hmap.set_yticklabels(hmap.get_ymajorticklabels(), fontsize = 18)\n",
    "## Colorbar fontsize ##\n",
    "hmap.collections[0].colorbar.ax.tick_params(labelsize=12)\n",
    "## Title ##\n",
    "ax_current.set_title(title, fontsize=20)\n",
    "\n",
    "\n",
    "\n",
    "\n",
    "### XGBoost: Top10 ###\n",
    "title='XGBoost: Top10 Features'\n",
    "threshold = performance_dict['XGBoostClassifier']['Top10 Features']['threshold']\n",
    "predictions = performance_dict['XGBoostClassifier']['Top10 Features']['y_pred'] > threshold\n",
    "ax_current=ax[0,1]\n",
    "\n",
    "confusion_matrix_data = confusion_matrix( y_true=y_test, y_pred=predictions, normalize='true' )\n",
    "## heatmap ##\n",
    "hmap = sns.heatmap(confusion_matrix_data, annot=True, square=True,\n",
    "            xticklabels= ['Pred: 0', 'Pred: 1'],\n",
    "            yticklabels= ['True: 0', 'True: 1'],\n",
    "            robust=True,\n",
    "            annot_kws={'fontsize':20},\n",
    "            cbar_kws={'pad':0, 'shrink': 0.82},\n",
    "                   ax=ax_current\n",
    "           )\n",
    "## Axis label size ##\n",
    "hmap.set_xticklabels(hmap.get_xmajorticklabels(), fontsize = 18)\n",
    "hmap.set_yticklabels(hmap.get_ymajorticklabels(), fontsize = 18)\n",
    "## Colorbar fontsize ##\n",
    "hmap.collections[0].colorbar.ax.tick_params(labelsize=12)\n",
    "## Title ##\n",
    "ax_current.set_title(title, fontsize=20)\n",
    "\n",
    "\n",
    "### ReLu: All Features ###\n",
    "title='ReLu Variant: All Features'\n",
    "threshold = performance_dict['relu']['All Features']['threshold']\n",
    "predictions = performance_dict['relu']['All Features']['y_pred'] > threshold\n",
    "ax_current=ax[1,0]\n",
    "\n",
    "confusion_matrix_data = confusion_matrix( y_true=y_test, y_pred=predictions, normalize='true' )\n",
    "## heatmap ##\n",
    "hmap = sns.heatmap(confusion_matrix_data, annot=True, square=True,\n",
    "            xticklabels= ['Pred: 0', 'Pred: 1'],\n",
    "            yticklabels= ['True: 0', 'True: 1'],\n",
    "            robust=True,\n",
    "            annot_kws={'fontsize':20},\n",
    "            cbar_kws={'pad':0, 'shrink': 0.82},\n",
    "                   ax=ax_current\n",
    "           )\n",
    "## Axis label size ##\n",
    "hmap.set_xticklabels(hmap.get_xmajorticklabels(), fontsize = 18)\n",
    "hmap.set_yticklabels(hmap.get_ymajorticklabels(), fontsize = 18)\n",
    "## Colorbar fontsize ##\n",
    "hmap.collections[0].colorbar.ax.tick_params(labelsize=12)\n",
    "## Title ##\n",
    "ax_current.set_title(title, fontsize=20)\n",
    "\n",
    "\n",
    "### ReLu: Top10 ###\n",
    "### ReLu: All Features ###\n",
    "title='ReLu Variant: Top10 Features'\n",
    "threshold = performance_dict['relu']['Top10 Features']['threshold']\n",
    "predictions = performance_dict['relu']['Top10 Features']['y_pred'] > threshold\n",
    "ax_current=ax[1,1]\n",
    "\n",
    "confusion_matrix_data = confusion_matrix( y_true=y_test, y_pred=predictions, normalize='true' )\n",
    "## heatmap ##\n",
    "hmap = sns.heatmap(confusion_matrix_data, annot=True, square=True,\n",
    "            xticklabels= ['Pred: 0', 'Pred: 1'],\n",
    "            yticklabels= ['True: 0', 'True: 1'],\n",
    "            robust=True,\n",
    "            annot_kws={'fontsize':20},\n",
    "            cbar_kws={'pad':0, 'shrink': 0.82},\n",
    "                   ax=ax_current\n",
    "           )\n",
    "## Axis label size ##\n",
    "hmap.set_xticklabels(hmap.get_xmajorticklabels(), fontsize = 18)\n",
    "hmap.set_yticklabels(hmap.get_ymajorticklabels(), fontsize = 18)\n",
    "## Colorbar fontsize ##\n",
    "hmap.collections[0].colorbar.ax.tick_params(labelsize=12)\n",
    "## Title ##\n",
    "ax_current.set_title(title, fontsize=20)\n",
    "\n",
    "\n",
    "## Save Figure ##\n",
    "plt.tight_layout()\n",
    "plt.savefig(f'{figures_folder}/Confusion_Matrices.pdf')\n",
    "plt.show()"
   ]
  }
 ],
 "metadata": {
  "kernelspec": {
   "display_name": "Python 3",
   "language": "python",
   "name": "python3"
  },
  "language_info": {
   "codemirror_mode": {
    "name": "ipython",
    "version": 3
   },
   "file_extension": ".py",
   "mimetype": "text/x-python",
   "name": "python",
   "nbconvert_exporter": "python",
   "pygments_lexer": "ipython3",
   "version": "3.9.6 (default, May  7 2023, 23:32:44) \n[Clang 14.0.3 (clang-1403.0.22.14.1)]"
  },
  "vscode": {
   "interpreter": {
    "hash": "31f2aee4e71d21fbe5cf8b01ff0e069b9275f58929596ceb00d14d90e3e16cd6"
   }
  }
 },
 "nbformat": 4,
 "nbformat_minor": 4
}
